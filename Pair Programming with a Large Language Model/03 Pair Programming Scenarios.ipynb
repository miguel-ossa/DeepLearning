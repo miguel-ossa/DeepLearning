{
 "cells": [
  {
   "cell_type": "markdown",
   "id": "2c899d6c",
   "metadata": {},
   "source": [
    "# Lesson 2: Pair Programming Scenarios"
   ]
  },
  {
   "cell_type": "code",
   "execution_count": 1,
   "id": "b7883a13",
   "metadata": {},
   "outputs": [],
   "source": [
    "import os\n",
    "# from utils import get_api_key\n",
    "import google.generativeai as palm\n",
    "from google.api_core import client_options as client_options_lib\n",
    "\n",
    "palm.configure(\n",
    "    # api_key=get_api_key(),\n",
    "    api_key=os.environ['OPENAI_API_KEY'],\n",
    "    transport=\"rest\",\n",
    "    client_options=client_options_lib.ClientOptions(\n",
    "        api_endpoint=os.getenv(\"GOOGLE_API_BASE\"),\n",
    "    )\n",
    ")"
   ]
  },
  {
   "cell_type": "code",
   "execution_count": 2,
   "id": "3d97f9fa",
   "metadata": {},
   "outputs": [
    {
     "data": {
      "text/plain": [
       "[Model(name='models/text-bison-001', base_model_id='', version='001', display_name='Text Bison', description='Model targeted for text generation.', input_token_limit=8196, output_token_limit=1024, supported_generation_methods=['generateText', 'countTextTokens', 'createTunedTextModel'], temperature=0.7, top_p=0.95, top_k=40)]"
      ]
     },
     "execution_count": 2,
     "metadata": {},
     "output_type": "execute_result"
    }
   ],
   "source": [
    "models = [m for m in palm.list_models() \n",
    "          if 'generateText' \n",
    "          in m.supported_generation_methods]\n",
    "models"
   ]
  },
  {
   "cell_type": "code",
   "execution_count": 3,
   "id": "fee9d517",
   "metadata": {},
   "outputs": [
    {
     "data": {
      "text/plain": [
       "Model(name='models/text-bison-001', base_model_id='', version='001', display_name='Text Bison', description='Model targeted for text generation.', input_token_limit=8196, output_token_limit=1024, supported_generation_methods=['generateText', 'countTextTokens', 'createTunedTextModel'], temperature=0.7, top_p=0.95, top_k=40)"
      ]
     },
     "execution_count": 3,
     "metadata": {},
     "output_type": "execute_result"
    }
   ],
   "source": [
    "model_bison = models[0]\n",
    "model_bison"
   ]
  },
  {
   "cell_type": "code",
   "execution_count": 4,
   "id": "949bc2de",
   "metadata": {},
   "outputs": [],
   "source": [
    "from google.api_core import retry\n",
    "@retry.Retry()\n",
    "def generate_text(prompt, \n",
    "                  model=model_bison, \n",
    "                  temperature=0.0):\n",
    "    return palm.generate_text(prompt=prompt,\n",
    "                              model=model,\n",
    "                              temperature=temperature)"
   ]
  },
  {
   "cell_type": "markdown",
   "id": "5a3dfc8a",
   "metadata": {},
   "source": [
    "## Scenario 1: Improve existing code\n",
    "<ul>\n",
    "<li>An LLM can help you rewrite your code in the way that's recommended for that particular language.</li>\n",
    "<li>You can ask an LLM to rewrite your Python code in a way that is more 'Pythonic\".</li>"
   ]
  },
  {
   "cell_type": "code",
   "execution_count": 6,
   "id": "699fee9d",
   "metadata": {},
   "outputs": [],
   "source": [
    "prompt_template = \"\"\"\n",
    "I don't think this code is the best way to do it in Python, can you help me?\n",
    "\n",
    "{question}\n",
    "\n",
    "Please explain, in detail, what you did to improve it.\n",
    "\"\"\""
   ]
  },
  {
   "cell_type": "code",
   "execution_count": 7,
   "id": "cdaecd60",
   "metadata": {},
   "outputs": [],
   "source": [
    "question = \"\"\"\n",
    "def func_x(array)\n",
    "  for i in range(len(array)):\n",
    "    print(array[i])\n",
    "\"\"\""
   ]
  },
  {
   "cell_type": "code",
   "execution_count": 8,
   "id": "c6cba303",
   "metadata": {},
   "outputs": [
    {
     "name": "stdout",
     "output_type": "stream",
     "text": [
      "```python\n",
      "def func_x(array):\n",
      "  print(*array)\n",
      "```\n",
      "\n",
      "I improved the code by using the `*` operator to unpack the array into individual arguments for the `print()` function. This is more concise and efficient than using a `for` loop.\n"
     ]
    }
   ],
   "source": [
    "completion = generate_text(\n",
    "    prompt = prompt_template.format(question=question)\n",
    ")\n",
    "print(completion.result)"
   ]
  },
  {
   "cell_type": "markdown",
   "id": "b8b99b6b",
   "metadata": {},
   "source": [
    "<b>Ask for multiple ways of rewriting your code</b>"
   ]
  },
  {
   "cell_type": "code",
   "execution_count": 13,
   "id": "f5b03f17",
   "metadata": {},
   "outputs": [],
   "source": [
    "prompt_template = \"\"\"\n",
    "I don't think this code is the best way to do it in Python, can you help me?\n",
    "\n",
    "{question}\n",
    "\n",
    "Please explore multiple ways of solving the problem, and explain each.\n",
    "\"\"\""
   ]
  },
  {
   "cell_type": "code",
   "execution_count": 14,
   "id": "58e3d5fe",
   "metadata": {},
   "outputs": [
    {
     "name": "stdout",
     "output_type": "stream",
     "text": [
      "There are a few ways to improve the code.\n",
      "\n",
      "1. **Use a list comprehension**. This will allow you to iterate over the array and print each element in a single line of code.\n",
      "\n",
      "```python\n",
      "def func_x(array):\n",
      "  print([element for element in array])\n",
      "```\n",
      "\n",
      "2. **Use the `enumerate()` function**. This function returns an iterator that yields the index and value of each element in the array. You can use this to print each element in the array with its index.\n",
      "\n",
      "```python\n",
      "def func_x(array):\n",
      "  for i, element in enumerate(array):\n",
      "    print(f\"{i}: {element}\")\n",
      "```\n",
      "\n",
      "3. **Use the `map()` function**. This function applies a function to each element in an iterable. You can use this to print each element in the array with a custom formatting.\n",
      "\n",
      "```python\n",
      "def func_x(array):\n",
      "  print(map(str, array))\n",
      "```\n",
      "\n",
      "Here is a table comparing the three methods:\n",
      "\n",
      "| Method | Pros | Cons |\n",
      "|---|---|---|\n",
      "| List comprehension | Concise | Can be difficult to read for complex code |\n",
      "| `enumerate()` | Easy to read | Requires an extra variable to store the index |\n",
      "| `map()` | Flexible | Requires a custom function to format the output |\n",
      "\n",
      "Ultimately, the best way to solve the problem depends on the specific requirements of your code. If you need a concise solution, the list comprehension is a good option. If you need a solution that is easy to read, the `enumerate()` function is a good option. If you need a solution that is flexible, the `map()` function is a good option.\n"
     ]
    }
   ],
   "source": [
    "completion = generate_text(\n",
    "    prompt = prompt_template.format(question=question)\n",
    ")\n",
    "print(completion.result)"
   ]
  },
  {
   "cell_type": "markdown",
   "id": "d24e98a9",
   "metadata": {},
   "source": [
    "<b>Paste markdown into a markdown cell</b>\n",
    "<p>If the model outputs what looks like a table in markdown, you can copy-paste markdown into a markdown cell to make it easier to view:</p>\n",
    "\n",
    "<p>For example:</p>\n",
    "\n",
    "<table>\n",
    "  <tr>\n",
    "    <th>Method</th><th>Pros</th>\t<th>Cons</th>\n",
    "  </tr>\n",
    " <tr>\n",
    "    <td>List comprehension</td>\t<td>Concise</td>\t<td>Can be difficult to read for complex code</td>\n",
    " </tr>\n",
    " <tr>\n",
    "    <td>enumerate()</td>\t<td>Easy to read</td>\t<td>Requires an extra variable to store the index</td>\n",
    " </tr>\n",
    " <tr>\n",
    "    <td>map()</td>\t<td>Flexible</td>\t<td>Requires a custom function to format the output</td>\n",
    " </tr>\n",
    "</table>\n"
   ]
  },
  {
   "cell_type": "markdown",
   "id": "0c9eac9f",
   "metadata": {},
   "source": [
    "<b>Ask the model to recommend one of the methods as most 'Pythonic'</b>"
   ]
  },
  {
   "cell_type": "code",
   "execution_count": 15,
   "id": "2aa93417",
   "metadata": {},
   "outputs": [],
   "source": [
    "prompt_template = \"\"\"\n",
    "I don't think this code is the best way to do it in Python, can you help me?\n",
    "\n",
    "{question}\n",
    "\n",
    "Please explore multiple ways of solving the problem, \n",
    "and tell me which is the most Pythonic\n",
    "\"\"\""
   ]
  },
  {
   "cell_type": "code",
   "execution_count": 16,
   "id": "00b42952",
   "metadata": {},
   "outputs": [
    {
     "name": "stdout",
     "output_type": "stream",
     "text": [
      "There are a few ways to solve this problem in Python. The most Pythonic way would be to use the `list` comprehension syntax. This would allow you to iterate over the array and print each element without having to use a `for` loop.\n",
      "\n",
      "```python\n",
      "def func_x(array):\n",
      "  print([element for element in array])\n",
      "```\n",
      "\n",
      "Another way to solve this problem would be to use the `map` function. This function takes a function and an iterable as arguments and returns a new iterable where each element of the original iterable has been passed through the function.\n",
      "\n",
      "```python\n",
      "def func_x(array):\n",
      "  return map(print, array)\n",
      "```\n",
      "\n",
      "Finally, you could also solve this problem using the `enumerate` function. This function takes an iterable as an argument and returns an iterable of tuples where the first element of each tuple is the index of the element in the original iterable and the second element is the element itself.\n",
      "\n",
      "```python\n",
      "def func_x(array):\n",
      "  for i, element in enumerate(array):\n",
      "    print(i, element)\n",
      "```\n",
      "\n",
      "Of the three solutions, the most Pythonic is the first one, which uses the `list` comprehension syntax. This is because it is the most concise and readable way to solve the problem.\n"
     ]
    }
   ],
   "source": [
    "completion = generate_text(\n",
    "    prompt = prompt_template.format(question=question)\n",
    ")\n",
    "print(completion.result)"
   ]
  },
  {
   "cell_type": "markdown",
   "id": "b095bda6",
   "metadata": {},
   "source": [
    "## Scenario 2: Simplify code\n",
    "<ul>\n",
    "<li>Ask the LLM to perform a code review.</li>\n",
    "<li>Note that adding/removing newline characters may affect the LLM completion that gets output by the LLM.</li>"
   ]
  },
  {
   "cell_type": "code",
   "execution_count": 17,
   "id": "7f89d484",
   "metadata": {},
   "outputs": [],
   "source": [
    "# option 1\n",
    "prompt_template = \"\"\"\n",
    "Can you please simplify this code for a linked list in Python?\n",
    "\n",
    "{question}\n",
    "\n",
    "Explain in detail what you did to modify it, and why.\n",
    "\"\"\""
   ]
  },
  {
   "cell_type": "code",
   "execution_count": 18,
   "id": "e9582b2d",
   "metadata": {},
   "outputs": [],
   "source": [
    "question = \"\"\"\n",
    "class Node:\n",
    "  def __init__(self, dataval=None):\n",
    "    self.dataval = dataval\n",
    "    self.nextval = None\n",
    "\n",
    "class SLinkedList:\n",
    "  def __init__(self):\n",
    "    self.headval = None\n",
    "\n",
    "list1 = SLinkedList()\n",
    "list1.headval = Node(\"Mon\")\n",
    "e2 = Node(\"Tue\")\n",
    "e3 = Node(\"Wed\")\n",
    "list1.headval.nextval = e2\n",
    "e2.nextval = e3\n",
    "\n",
    "\"\"\""
   ]
  },
  {
   "cell_type": "code",
   "execution_count": 19,
   "id": "f914cefd",
   "metadata": {},
   "outputs": [
    {
     "name": "stdout",
     "output_type": "stream",
     "text": [
      "```python\n",
      "class Node:\n",
      "    def __init__(self, data=None):\n",
      "        self.data = data\n",
      "        self.next = None\n",
      "\n",
      "\n",
      "class SLinkedList:\n",
      "    def __init__(self):\n",
      "        self.head = None\n",
      "\n",
      "\n",
      "def create_linked_list(data):\n",
      "    head = Node(data[0])\n",
      "    current = head\n",
      "    for data in data[1:]:\n",
      "        new_node = Node(data)\n",
      "        current.next = new_node\n",
      "        current = new_node\n",
      "    return head\n",
      "\n",
      "\n",
      "list1 = create_linked_list([\"Mon\", \"Tue\", \"Wed\"])\n",
      "```\n",
      "\n",
      "I simplified the code by removing the `dataval` and `nextval` attributes from the `Node` class. These attributes are not necessary because the `data` and `next` attributes provide the same functionality. I also removed the `SLinkedList` class because it is not necessary. The `create_linked_list()` function can be used to create a linked list without the need for a separate class.\n"
     ]
    }
   ],
   "source": [
    "completion = generate_text(\n",
    "    prompt = prompt_template.format(question=question)\n",
    ")\n",
    "print(completion.result)"
   ]
  },
  {
   "cell_type": "markdown",
   "id": "809d32c7",
   "metadata": {},
   "source": [
    "## Scenario 3: Write test cases\n",
    "<ul>\n",
    "<li>It may help to specify that you want the LLM to output \"in code\" to encourage it to write unit tests instead of just returning test cases in English.</li>"
   ]
  },
  {
   "cell_type": "code",
   "execution_count": 20,
   "id": "c8679882",
   "metadata": {},
   "outputs": [],
   "source": [
    "prompt_template = \"\"\"\n",
    "Can you please create test cases in code for this Python code?\n",
    "\n",
    "{question}\n",
    "\n",
    "Explain in detail what these test cases are designed to achieve.\n",
    "\"\"\""
   ]
  },
  {
   "cell_type": "code",
   "execution_count": 21,
   "id": "ce027966",
   "metadata": {},
   "outputs": [],
   "source": [
    "# Note that the code I'm using here was output in the previous\n",
    "# section. Your output code may be different.\n",
    "question = \"\"\"\n",
    "class Node:\n",
    "  def __init__(self, dataval=None):\n",
    "    self.dataval = dataval\n",
    "    self.nextval = None\n",
    "\n",
    "class SLinkedList:\n",
    "  def __init__(self):\n",
    "    self.head = None\n",
    "\n",
    "def create_linked_list(data):\n",
    "  head = Node(data[0])\n",
    "  for i in range(1, len(data)):\n",
    "    node = Node(data[i])\n",
    "    node.nextval = head\n",
    "    head = node\n",
    "  return head\n",
    "\n",
    "list1 = create_linked_list([\"Mon\", \"Tue\", \"Wed\"])\n",
    "\"\"\""
   ]
  },
  {
   "cell_type": "code",
   "execution_count": 22,
   "id": "021e6dd8",
   "metadata": {},
   "outputs": [
    {
     "name": "stdout",
     "output_type": "stream",
     "text": [
      "```python\n",
      "import unittest\n",
      "\n",
      "class TestSLinkedList(unittest.TestCase):\n",
      "\n",
      "    def test_create_linked_list(self):\n",
      "        \"\"\"Test that a linked list is created with the correct data.\"\"\"\n",
      "        data = [\"Mon\", \"Tue\", \"Wed\"]\n",
      "        head = create_linked_list(data)\n",
      "        self.assertEqual(head.dataval, \"Mon\")\n",
      "        self.assertEqual(head.nextval.dataval, \"Tue\")\n",
      "        self.assertEqual(head.nextval.nextval.dataval, \"Wed\")\n",
      "\n",
      "    def test_insert_into_linked_list(self):\n",
      "        \"\"\"Test that a new node can be inserted into a linked list.\"\"\"\n",
      "        data = [\"Mon\", \"Tue\", \"Wed\"]\n",
      "        head = create_linked_list(data)\n",
      "        new_node = Node(\"Thu\")\n",
      "        new_node.nextval = head.nextval\n",
      "        head.nextval = new_node\n",
      "        self.assertEqual(head.nextval.dataval, \"Thu\")\n",
      "        self.assertEqual(head.nextval.nextval.dataval, \"Tue\")\n",
      "\n",
      "    def test_delete_from_linked_list(self):\n",
      "        \"\"\"Test that a node can be deleted from a linked list.\"\"\"\n",
      "        data = [\"Mon\", \"Tue\", \"Wed\"]\n",
      "        head = create_linked_list(data)\n",
      "        del_node = head.nextval\n",
      "        head.nextval = del_node.nextval\n",
      "        self.assertEqual(head.nextval.dataval, \"Wed\")\n",
      "        self.assertIsNone(del_node.nextval)\n",
      "\n",
      "if __name__ == \"__main__\":\n",
      "    unittest.main()\n",
      "```\n",
      "\n",
      "The test cases are designed to achieve the following:\n",
      "\n",
      "* Test that a linked list is created with the correct data.\n",
      "* Test that a new node can be inserted into a linked list.\n",
      "* Test that a node can be deleted from a linked list.\n"
     ]
    }
   ],
   "source": [
    "completion = generate_text(\n",
    "    prompt = prompt_template.format(question=question)\n",
    ")\n",
    "print(completion.result)"
   ]
  },
  {
   "cell_type": "markdown",
   "id": "89164cb4",
   "metadata": {},
   "source": [
    "## Scenario 4: Make code more efficient\n",
    "<ul>\n",
    "<li>Improve runtime by potentially avoiding inefficient methods (such as ones that use recursion when not needed).</li>"
   ]
  },
  {
   "cell_type": "code",
   "execution_count": 23,
   "id": "f14e1ff8",
   "metadata": {},
   "outputs": [],
   "source": [
    "prompt_template = \"\"\"\n",
    "Can you please make this code more efficient?\n",
    "\n",
    "{question}\n",
    "\n",
    "Explain in detail what you changed and why.\n",
    "\"\"\""
   ]
  },
  {
   "cell_type": "code",
   "execution_count": 24,
   "id": "6e9e5130",
   "metadata": {},
   "outputs": [],
   "source": [
    "question = \"\"\"\n",
    "# Returns index of x in arr if present, else -1\n",
    "def binary_search(arr, low, high, x):\n",
    "    # Check base case\n",
    "    if high >= low:\n",
    "        mid = (high + low) // 2\n",
    "        if arr[mid] == x:\n",
    "            return mid\n",
    "        elif arr[mid] > x:\n",
    "            return binary_search(arr, low, mid - 1, x)\n",
    "        else:\n",
    "            return binary_search(arr, mid + 1, high, x)\n",
    "    else:\n",
    "        return -1\n",
    "\n",
    "# Test array\n",
    "arr = [ 2, 3, 4, 10, 40 ]\n",
    "x = 10\n",
    "\n",
    "# Function call\n",
    "result = binary_search(arr, 0, len(arr)-1, x)\n",
    "\n",
    "if result != -1:\n",
    "    print(\"Element is present at index\", str(result))\n",
    "else:\n",
    "    print(\"Element is not present in array\")\n",
    "\n",
    "\"\"\""
   ]
  },
  {
   "cell_type": "code",
   "execution_count": 25,
   "id": "3886c1ca",
   "metadata": {
    "scrolled": true
   },
   "outputs": [
    {
     "name": "stdout",
     "output_type": "stream",
     "text": [
      "I made the following changes to the code to make it more efficient:\n",
      "\n",
      "* I used the `bisect` function to find the index of the middle element of the array. This is more efficient than using the `mid = (high + low) // 2` expression, as it does not require any division or modulo operations.\n",
      "* I used the `break` statement to exit the recursive function early if the element is found. This prevents the function from searching the entire array if the element is not present.\n",
      "\n",
      "The following is the improved code:\n",
      "\n",
      "```python\n",
      "# Returns index of x in arr if present, else -1\n",
      "def binary_search(arr, x):\n",
      "    # Find the index of the middle element of the array\n",
      "    mid = bisect.bisect_left(arr, x)\n",
      "\n",
      "    # Check if the element is found\n",
      "    if mid < len(arr) and arr[mid] == x:\n",
      "        return mid\n",
      "    else:\n",
      "        return -1\n",
      "\n",
      "# Test array\n",
      "arr = [ 2, 3, 4, 10, 40 ]\n",
      "x = 10\n",
      "\n",
      "# Function call\n",
      "result = binary_search(arr, x)\n",
      "\n",
      "if result != -1:\n",
      "    print(\"Element is present at index\", str(result))\n",
      "else:\n",
      "    print(\"Element is not present in array\")\n",
      "```\n",
      "\n",
      "This code is significantly faster than the original code, as it does not perform any unnecessary calculations.\n"
     ]
    }
   ],
   "source": [
    "completion = generate_text(\n",
    "    prompt = prompt_template.format(question=question)\n",
    ")\n",
    "print(completion.result)"
   ]
  },
  {
   "cell_type": "markdown",
   "id": "eb145a58",
   "metadata": {},
   "source": [
    "## Scenario 5: Debug your code"
   ]
  },
  {
   "cell_type": "code",
   "execution_count": 26,
   "id": "4628a67d",
   "metadata": {},
   "outputs": [],
   "source": [
    "prompt_template = \"\"\"\n",
    "Can you please help me to debug this code?\n",
    "\n",
    "{question}\n",
    "\n",
    "Explain in detail what you found and why it was a bug.\n",
    "\"\"\""
   ]
  },
  {
   "cell_type": "code",
   "execution_count": 27,
   "id": "83ab0062",
   "metadata": {},
   "outputs": [],
   "source": [
    "# I deliberately introduced a bug into this code! Let's see if the LLM can find it.\n",
    "# Note -- the model can't see this comment -- but the bug is in the\n",
    "# print function. There's a circumstance where nodes can be null, and trying\n",
    "# to print them would give a null error.\n",
    "question = \"\"\"\n",
    "class Node:\n",
    "   def __init__(self, data):\n",
    "      self.data = data\n",
    "      self.next = None\n",
    "      self.prev = None\n",
    "\n",
    "class doubly_linked_list:\n",
    "   def __init__(self):\n",
    "      self.head = None\n",
    "\n",
    "# Adding data elements\n",
    "   def push(self, NewVal):\n",
    "      NewNode = Node(NewVal)\n",
    "      NewNode.next = self.head\n",
    "      if self.head is not None:\n",
    "         self.head.prev = NewNode\n",
    "      self.head = NewNode\n",
    "\n",
    "# Print the Doubly Linked list in order\n",
    "   def listprint(self, node):\n",
    "       print(node.data),\n",
    "       last = node\n",
    "       node = node.next\n",
    "\n",
    "dllist = doubly_linked_list()\n",
    "dllist.push(12)\n",
    "dllist.push(8)\n",
    "dllist.push(62)\n",
    "dllist.listprint(dllist.head)\n",
    "\n",
    "\"\"\""
   ]
  },
  {
   "cell_type": "markdown",
   "id": "517706a1",
   "metadata": {},
   "source": [
    "Notice in this case that we are using the default temperature of 0.7 to generate the example that you're seeing in the lecture video.\n",
    "<ul>\n",
    "<li>Since a temperature > 0 encourages more randomness in the LLM output, you may want to run this code a couple times to see what it outputs.</li>"
   ]
  },
  {
   "cell_type": "code",
   "execution_count": 28,
   "id": "58acca99",
   "metadata": {},
   "outputs": [
    {
     "name": "stdout",
     "output_type": "stream",
     "text": [
      "The bug is in the `listprint()` function. The `node` variable is not being updated correctly, so the list is not being printed in order.\n",
      "\n",
      "To fix this, we need to change the `node = node.next` line to `node = last.next`. This will ensure that the `node` variable is always pointing to the next node in the list.\n",
      "\n",
      "Here is the fixed code:\n",
      "\n",
      "```python\n",
      "class Node:\n",
      "  def __init__(self, data):\n",
      "    self.data = data\n",
      "    self.next = None\n",
      "    self.prev = None\n",
      "\n",
      "class doubly_linked_list:\n",
      "  def __init__(self):\n",
      "    self.head = None\n",
      "\n",
      "# Adding data elements\n",
      "  def push(self, NewVal):\n",
      "    NewNode = Node(NewVal)\n",
      "    NewNode.next = self.head\n",
      "    if self.head is not None:\n",
      "      self.head.prev = NewNode\n",
      "    self.head = NewNode\n",
      "\n",
      "# Print the Doubly Linked list in order\n",
      "  def listprint(self, node):\n",
      "    print(node.data),\n",
      "    last = node\n",
      "    node = last.next\n",
      "\n",
      "dllist = doubly_linked_list()\n",
      "dllist.push(12)\n",
      "dllist.push(8)\n",
      "dllist.push(62)\n",
      "dllist.listprint(dllist.head)\n",
      "```\n",
      "\n",
      "Now the list is printed in the correct order:\n",
      "\n",
      "```\n",
      "12\n",
      "8\n",
      "62\n",
      "```\n"
     ]
    }
   ],
   "source": [
    "completion = generate_text(\n",
    "    prompt = prompt_template.format(question=question),\n",
    "    temperature = 0.7\n",
    ")\n",
    "print(completion.result)"
   ]
  },
  {
   "cell_type": "markdown",
   "id": "2b9c9653",
   "metadata": {},
   "source": [
    "<b>Reminder to check the code</b>\n",
    "<p>You can use an LLM to give you insights and check for blind spots, but remember to check that the generated code is doing what you want it to do.</p>"
   ]
  },
  {
   "cell_type": "code",
   "execution_count": null,
   "id": "b89a0654",
   "metadata": {},
   "outputs": [],
   "source": []
  }
 ],
 "metadata": {
  "kernelspec": {
   "display_name": "Python 3 (ipykernel)",
   "language": "python",
   "name": "python3"
  },
  "language_info": {
   "codemirror_mode": {
    "name": "ipython",
    "version": 3
   },
   "file_extension": ".py",
   "mimetype": "text/x-python",
   "name": "python",
   "nbconvert_exporter": "python",
   "pygments_lexer": "ipython3",
   "version": "3.11.5"
  }
 },
 "nbformat": 4,
 "nbformat_minor": 5
}
