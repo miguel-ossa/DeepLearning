{
 "cells": [
  {
   "cell_type": "markdown",
   "id": "241edb90",
   "metadata": {},
   "source": [
    "# Lesson 1: Getting Started with PaLM"
   ]
  },
  {
   "cell_type": "code",
   "execution_count": 2,
   "id": "6eb5c95a",
   "metadata": {},
   "outputs": [],
   "source": [
    "import os\n",
    "# from utils import get_api_key\n",
    "import google.generativeai as palm\n",
    "from google.api_core import client_options as client_options_lib\n",
    "\n",
    "palm.configure(\n",
    "    # api_key=get_api_key(),\n",
    "    api_key=os.environ['OPENAI_API_KEY'],\n",
    "    transport=\"rest\",\n",
    "    client_options=client_options_lib.ClientOptions(\n",
    "        api_endpoint=os.getenv(\"GOOGLE_API_BASE\"),\n",
    "    )\n",
    ")"
   ]
  },
  {
   "cell_type": "markdown",
   "id": "587d7dfa",
   "metadata": {},
   "source": [
    "<b>Explore the available models</b>"
   ]
  },
  {
   "cell_type": "code",
   "execution_count": 3,
   "id": "a2797073",
   "metadata": {},
   "outputs": [
    {
     "name": "stdout",
     "output_type": "stream",
     "text": [
      "name: models/chat-bison-001\n",
      "description: Chat-optimized generative language model.\n",
      "generation methods:['generateMessage', 'countMessageTokens']\n",
      "\n",
      "name: models/text-bison-001\n",
      "description: Model targeted for text generation.\n",
      "generation methods:['generateText', 'countTextTokens', 'createTunedTextModel']\n",
      "\n",
      "name: models/embedding-gecko-001\n",
      "description: Obtain a distributed representation of a text.\n",
      "generation methods:['embedText']\n",
      "\n"
     ]
    }
   ],
   "source": [
    "for m in palm.list_models():\n",
    "    print(f\"name: {m.name}\")\n",
    "    print(f\"description: {m.description}\")\n",
    "    print(f\"generation methods:{m.supported_generation_methods}\\n\")"
   ]
  },
  {
   "cell_type": "markdown",
   "id": "37760a78",
   "metadata": {},
   "source": [
    "<b>Filter models by their supported generation methods</b>\n",
    "<ul>\n",
    "    <li>generateText is currently recommended for coding-related prompts.</li>\n",
    "    <li>generateMessage is optimized for multi-turn chats (dialogues) with an LLM.</li>\n",
    "</ul>"
   ]
  },
  {
   "cell_type": "code",
   "execution_count": 4,
   "id": "49d93b13",
   "metadata": {},
   "outputs": [
    {
     "data": {
      "text/plain": [
       "[Model(name='models/text-bison-001', base_model_id='', version='001', display_name='Text Bison', description='Model targeted for text generation.', input_token_limit=8196, output_token_limit=1024, supported_generation_methods=['generateText', 'countTextTokens', 'createTunedTextModel'], temperature=0.7, top_p=0.95, top_k=40)]"
      ]
     },
     "execution_count": 4,
     "metadata": {},
     "output_type": "execute_result"
    }
   ],
   "source": [
    "models = [m for m in palm.list_models() \n",
    "          if 'generateText' \n",
    "          in m.supported_generation_methods]\n",
    "models"
   ]
  },
  {
   "cell_type": "code",
   "execution_count": 5,
   "id": "2b24974f",
   "metadata": {},
   "outputs": [
    {
     "data": {
      "text/plain": [
       "Model(name='models/text-bison-001', base_model_id='', version='001', display_name='Text Bison', description='Model targeted for text generation.', input_token_limit=8196, output_token_limit=1024, supported_generation_methods=['generateText', 'countTextTokens', 'createTunedTextModel'], temperature=0.7, top_p=0.95, top_k=40)"
      ]
     },
     "execution_count": 5,
     "metadata": {},
     "output_type": "execute_result"
    }
   ],
   "source": [
    "model_bison = models[0]\n",
    "model_bison"
   ]
  },
  {
   "cell_type": "markdown",
   "id": "99229596",
   "metadata": {},
   "source": [
    "<b>helper function to generate text</b>\n",
    "<ul>\n",
    "    <li>The @retry decorator helps you to retry the API call if it fails.</li>\n",
    "    <li>We set the temperature to 0.0 so that the model returns the same output (completion) if given the same input (the prompt).</li>\n",
    "</ul>"
   ]
  },
  {
   "cell_type": "code",
   "execution_count": 11,
   "id": "4d3408ea",
   "metadata": {},
   "outputs": [],
   "source": [
    "from google.api_core import retry\n",
    "@retry.Retry()\n",
    "def generate_text(prompt,\n",
    "                  model=model_bison,\n",
    "                  temperature=0.0):\n",
    "    return palm.generate_text(prompt=prompt,\n",
    "                              model=model,\n",
    "                              temperature=temperature)"
   ]
  },
  {
   "cell_type": "markdown",
   "id": "5114f669",
   "metadata": {},
   "source": [
    "<b>Ask the LLM how to write some code</b>"
   ]
  },
  {
   "cell_type": "code",
   "execution_count": 12,
   "id": "d9d42654",
   "metadata": {},
   "outputs": [],
   "source": [
    "prompt = \"Show me how to iterate across a list in Python.\""
   ]
  },
  {
   "cell_type": "code",
   "execution_count": 13,
   "id": "033c2125",
   "metadata": {},
   "outputs": [],
   "source": [
    "completion = generate_text(prompt)"
   ]
  },
  {
   "cell_type": "code",
   "execution_count": 14,
   "id": "e5d89b0a",
   "metadata": {},
   "outputs": [
    {
     "name": "stdout",
     "output_type": "stream",
     "text": [
      "To iterate across a list in Python, you can use the `for` loop. The syntax is as follows:\n",
      "\n",
      "```python\n",
      "for item in list:\n",
      "  # do something with item\n",
      "```\n",
      "\n",
      "For example, the following code prints each item in the list `my_list`:\n",
      "\n",
      "```python\n",
      "my_list = [\"a\", \"b\", \"c\"]\n",
      "\n",
      "for item in my_list:\n",
      "  print(item)\n",
      "```\n",
      "\n",
      "Output:\n",
      "\n",
      "```\n",
      "a\n",
      "b\n",
      "c\n",
      "```\n",
      "\n",
      "You can also use the `enumerate()` function to iterate over a list and get the index of each item. The syntax is as follows:\n",
      "\n",
      "```python\n",
      "for index, item in enumerate(list):\n",
      "  # do something with index and item\n",
      "```\n",
      "\n",
      "For example, the following code prints the index and value of each item in the list `my_list`:\n",
      "\n",
      "```python\n",
      "my_list = [\"a\", \"b\", \"c\"]\n",
      "\n",
      "for index, item in enumerate(my_list):\n",
      "  print(index, item)\n",
      "```\n",
      "\n",
      "Output:\n",
      "\n",
      "```\n",
      "0 a\n",
      "1 b\n",
      "2 c\n",
      "```\n"
     ]
    }
   ],
   "source": [
    "print(completion.result)"
   ]
  }
 ],
 "metadata": {
  "kernelspec": {
   "display_name": "Python 3 (ipykernel)",
   "language": "python",
   "name": "python3"
  },
  "language_info": {
   "codemirror_mode": {
    "name": "ipython",
    "version": 3
   },
   "file_extension": ".py",
   "mimetype": "text/x-python",
   "name": "python",
   "nbconvert_exporter": "python",
   "pygments_lexer": "ipython3",
   "version": "3.11.5"
  }
 },
 "nbformat": 4,
 "nbformat_minor": 5
}
